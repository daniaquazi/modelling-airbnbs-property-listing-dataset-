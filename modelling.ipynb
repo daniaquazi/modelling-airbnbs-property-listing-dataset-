{
 "cells": [
  {
   "cell_type": "code",
   "execution_count": 1,
   "metadata": {},
   "outputs": [],
   "source": [
    "import pandas as pd\n",
    "from tabular_data import hello\n",
    "h = hello()\n",
    "df = pd.read_csv(\"/Users/dq/Documents/aicore_project/Airbnb_Project/AirBnbData.csv\")\n",
    "df = h.clean_tabular_data(df)\n",
    "df = df.iloc[:,:]\n",
    "x, y = h.load_airbnb(df,\"Price_Night\")"
   ]
  },
  {
   "cell_type": "code",
   "execution_count": 2,
   "metadata": {},
   "outputs": [
    {
     "data": {
      "text/plain": [
       "0      105.0\n",
       "1       92.0\n",
       "2       52.0\n",
       "3      132.0\n",
       "5      143.0\n",
       "       ...  \n",
       "982    240.0\n",
       "983     78.0\n",
       "984    113.0\n",
       "985     80.0\n",
       "987    104.0\n",
       "Name: Price_Night, Length: 830, dtype: float64"
      ]
     },
     "execution_count": 2,
     "metadata": {},
     "output_type": "execute_result"
    }
   ],
   "source": [
    "y"
   ]
  },
  {
   "cell_type": "code",
   "execution_count": 3,
   "metadata": {},
   "outputs": [
    {
     "data": {
      "text/plain": [
       "array([-9.35875390e+08, -4.84063737e+08, -1.52851855e+08,  1.19765875e+07,\n",
       "       -5.43114353e+08, -9.00961507e+08,  5.71052592e+08,  4.23326901e+08,\n",
       "       -1.93511909e+08,  1.61666174e+08, -1.38806604e+07,  2.59403145e+07,\n",
       "       -1.11824730e+08,  3.14832434e+09, -7.32334337e+08,  2.72089890e+08,\n",
       "        5.02781506e+08, -3.61881143e+07,  6.38526613e+08, -1.67126722e+09,\n",
       "        1.15930980e+09,  7.38769944e+08,  8.46291264e+07,  1.23612390e+09,\n",
       "        3.96958084e+07, -8.91014001e+08, -1.81551591e+09, -2.80307941e+08,\n",
       "        5.60685682e+08,  6.31170369e+08, -2.21434627e+09,  7.86584184e+08,\n",
       "       -3.63462755e+09,  4.06010850e+07,  1.77681864e+09,  2.75580828e+08,\n",
       "        7.83460289e+08,  2.99475768e+08,  1.23493380e+08, -2.97935817e+08,\n",
       "        3.85666315e+08, -1.05038313e+08,  1.24056721e+07,  1.97896359e+09,\n",
       "       -2.55863913e+08, -4.50315223e+08,  2.16088656e+08,  9.88768609e+08,\n",
       "       -8.58246841e+08,  3.20927833e+08, -9.81537478e+08,  6.36328313e+08,\n",
       "        1.10066214e+08,  1.58011093e+06, -5.34385748e+08, -3.09043691e+08,\n",
       "        4.80433025e+08, -8.35796473e+08, -2.98536937e+08, -1.97925622e+08,\n",
       "       -8.12280226e+08,  4.56090952e+08,  3.37382301e+08, -4.88801394e+07,\n",
       "        6.42930180e+08,  1.98871808e+08,  6.02807310e+08,  7.82621351e+08,\n",
       "        1.23298968e+08,  2.07079613e+08, -2.31345669e+08, -1.12176439e+09,\n",
       "       -1.85493915e+09, -1.07227598e+08, -4.98858101e+08,  1.32566838e+09,\n",
       "       -8.46878160e+07, -4.26222542e+08,  3.40109594e+07, -1.02539477e+09,\n",
       "       -1.49940427e+08, -2.65831320e+08, -1.35963781e+07,  1.03220139e+09,\n",
       "        2.92751603e+08, -3.01011856e+09, -2.26613433e+07,  7.28787741e+06,\n",
       "       -7.58039543e+08, -4.39444908e+08,  4.65947227e+07, -5.31667275e+08,\n",
       "       -3.79703720e+07,  2.87480586e+08,  2.38585163e+08, -2.69667273e+08,\n",
       "        5.24059059e+08, -5.42888054e+08, -1.39116758e+09, -3.02469415e+08,\n",
       "       -5.61280800e+08,  1.30972940e+09, -1.45480123e+07, -1.03853516e+09,\n",
       "       -1.06888139e+09, -7.10025814e+08, -5.45098549e+08, -8.70824466e+08,\n",
       "        2.84396005e+08, -2.11667528e+09,  7.10165131e+08, -8.57255809e+08,\n",
       "       -1.25900099e+09, -1.14479196e+09, -9.92404314e+08,  3.37342501e+08,\n",
       "        1.45765389e+08, -1.99349981e+08, -2.27573634e+08,  3.57977023e+08,\n",
       "       -1.50148112e+08,  1.68708773e+09,  7.60736282e+08, -7.59741218e+08,\n",
       "       -1.74679612e+09, -1.17379274e+08, -9.93412284e+08,  3.47685027e+08,\n",
       "        5.07592856e+08, -2.63856190e+08, -1.01022086e+08, -6.10487961e+08,\n",
       "        9.95103680e+07, -1.01481753e+08, -7.43993019e+07,  1.68798628e+09,\n",
       "        3.15679733e+08, -4.16691948e+08, -4.39929472e+07, -4.69702655e+08,\n",
       "       -4.67253409e+07, -1.83100773e+09,  4.37380385e+08, -6.67033753e+08,\n",
       "       -1.29884306e+09, -7.26501308e+08,  2.22087630e+09, -1.22699987e+09,\n",
       "        5.40154010e+08, -1.12241090e+07,  1.28032410e+09,  2.51418053e+08,\n",
       "        2.90323385e+08, -3.32855812e+07, -6.44140662e+08,  1.05576580e+09,\n",
       "       -1.03782708e+09, -1.21581747e+08, -4.42546705e+08, -4.52896723e+08,\n",
       "       -1.03548667e+09,  1.29069959e+09, -6.78458147e+08,  1.51860609e+09,\n",
       "       -6.63510882e+08,  3.51455974e+08, -1.42271255e+09, -2.65774223e+08,\n",
       "        9.17893653e+08,  1.07720081e+09, -1.11824730e+08,  1.58626597e+09,\n",
       "       -1.25480905e+09,  3.92590589e+07, -9.60378589e+06, -1.93151002e+08,\n",
       "       -9.04500451e+07, -1.60474207e+08,  1.22426883e+09, -3.32661458e+07,\n",
       "       -6.33660558e+07,  2.89385580e+08,  8.38384152e+08, -5.57879118e+07,\n",
       "        1.41612942e+08, -1.38701034e+08, -1.98687184e+08, -6.81592494e+08,\n",
       "        3.66644359e+08, -7.01607977e+08, -6.61280384e+08,  2.03134970e+08,\n",
       "       -4.87180277e+08, -1.49787205e+08,  7.72215340e+07, -1.58843129e+08,\n",
       "        4.37222450e+08,  2.14606593e+08, -1.08979321e+09, -7.31883172e+07,\n",
       "        9.67562731e+08,  5.05874807e+08,  1.00974440e+09, -4.77380636e+08,\n",
       "        2.49555499e+09, -5.99786745e+08,  4.16861808e+08,  1.84374282e+09])"
      ]
     },
     "execution_count": 3,
     "metadata": {},
     "output_type": "execute_result"
    }
   ],
   "source": [
    "from sklearn.linear_model import SGDRegressor\n",
    "from sklearn.metrics import mean_squared_error\n",
    "from sklearn.model_selection import train_test_split\n",
    "from sklearn.model_selection import cross_val_score\n",
    "from sklearn.preprocessing import scale\n",
    "import matplotlib.pyplot as plt \n",
    "\n",
    "X_train, X_test, y_train, y_test=train_test_split(x, y, test_size=0.25, random_state=0)\n",
    "model = SGDRegressor()\n",
    "model.fit(X_train, y_train)\n",
    "y_pred = model.predict(X_test)\n",
    "y_train_pred = model.predict(X_train)\n",
    "y_pred"
   ]
  },
  {
   "cell_type": "code",
   "execution_count": 4,
   "metadata": {},
   "outputs": [
    {
     "data": {
      "text/html": [
       "<div>\n",
       "<style scoped>\n",
       "    .dataframe tbody tr th:only-of-type {\n",
       "        vertical-align: middle;\n",
       "    }\n",
       "\n",
       "    .dataframe tbody tr th {\n",
       "        vertical-align: top;\n",
       "    }\n",
       "\n",
       "    .dataframe thead th {\n",
       "        text-align: right;\n",
       "    }\n",
       "</style>\n",
       "<table border=\"1\" class=\"dataframe\">\n",
       "  <thead>\n",
       "    <tr style=\"text-align: right;\">\n",
       "      <th></th>\n",
       "      <th>Actual</th>\n",
       "      <th>Predicted</th>\n",
       "    </tr>\n",
       "  </thead>\n",
       "  <tbody>\n",
       "    <tr>\n",
       "      <th>761</th>\n",
       "      <td>81.0</td>\n",
       "      <td>-9.358754e+08</td>\n",
       "    </tr>\n",
       "    <tr>\n",
       "      <th>45</th>\n",
       "      <td>222.0</td>\n",
       "      <td>-4.840637e+08</td>\n",
       "    </tr>\n",
       "    <tr>\n",
       "      <th>550</th>\n",
       "      <td>225.0</td>\n",
       "      <td>-1.528519e+08</td>\n",
       "    </tr>\n",
       "    <tr>\n",
       "      <th>11</th>\n",
       "      <td>106.0</td>\n",
       "      <td>1.197659e+07</td>\n",
       "    </tr>\n",
       "    <tr>\n",
       "      <th>446</th>\n",
       "      <td>170.0</td>\n",
       "      <td>-5.431144e+08</td>\n",
       "    </tr>\n",
       "    <tr>\n",
       "      <th>...</th>\n",
       "      <td>...</td>\n",
       "      <td>...</td>\n",
       "    </tr>\n",
       "    <tr>\n",
       "      <th>870</th>\n",
       "      <td>132.0</td>\n",
       "      <td>-4.773806e+08</td>\n",
       "    </tr>\n",
       "    <tr>\n",
       "      <th>737</th>\n",
       "      <td>91.0</td>\n",
       "      <td>2.495555e+09</td>\n",
       "    </tr>\n",
       "    <tr>\n",
       "      <th>788</th>\n",
       "      <td>211.0</td>\n",
       "      <td>-5.997867e+08</td>\n",
       "    </tr>\n",
       "    <tr>\n",
       "      <th>418</th>\n",
       "      <td>145.0</td>\n",
       "      <td>4.168618e+08</td>\n",
       "    </tr>\n",
       "    <tr>\n",
       "      <th>239</th>\n",
       "      <td>23.0</td>\n",
       "      <td>1.843743e+09</td>\n",
       "    </tr>\n",
       "  </tbody>\n",
       "</table>\n",
       "<p>208 rows × 2 columns</p>\n",
       "</div>"
      ],
      "text/plain": [
       "     Actual     Predicted\n",
       "761    81.0 -9.358754e+08\n",
       "45    222.0 -4.840637e+08\n",
       "550   225.0 -1.528519e+08\n",
       "11    106.0  1.197659e+07\n",
       "446   170.0 -5.431144e+08\n",
       "..      ...           ...\n",
       "870   132.0 -4.773806e+08\n",
       "737    91.0  2.495555e+09\n",
       "788   211.0 -5.997867e+08\n",
       "418   145.0  4.168618e+08\n",
       "239    23.0  1.843743e+09\n",
       "\n",
       "[208 rows x 2 columns]"
      ]
     },
     "execution_count": 4,
     "metadata": {},
     "output_type": "execute_result"
    }
   ],
   "source": [
    "df = pd.DataFrame({'Actual': y_test, 'Predicted': y_pred})\n",
    "df"
   ]
  },
  {
   "cell_type": "code",
   "execution_count": 5,
   "metadata": {},
   "outputs": [
    {
     "data": {
      "text/html": [
       "<div>\n",
       "<style scoped>\n",
       "    .dataframe tbody tr th:only-of-type {\n",
       "        vertical-align: middle;\n",
       "    }\n",
       "\n",
       "    .dataframe tbody tr th {\n",
       "        vertical-align: top;\n",
       "    }\n",
       "\n",
       "    .dataframe thead th {\n",
       "        text-align: right;\n",
       "    }\n",
       "</style>\n",
       "<table border=\"1\" class=\"dataframe\">\n",
       "  <thead>\n",
       "    <tr style=\"text-align: right;\">\n",
       "      <th></th>\n",
       "      <th>guests</th>\n",
       "      <th>beds</th>\n",
       "      <th>bathrooms</th>\n",
       "      <th>Cleanliness_rate</th>\n",
       "      <th>Accuracy_rate</th>\n",
       "      <th>Communication_rate</th>\n",
       "      <th>Location_rate</th>\n",
       "      <th>Check-in_rate</th>\n",
       "      <th>Value_rate</th>\n",
       "      <th>amenities_count</th>\n",
       "      <th>bedrooms</th>\n",
       "    </tr>\n",
       "  </thead>\n",
       "  <tbody>\n",
       "    <tr>\n",
       "      <th>761</th>\n",
       "      <td>2.0</td>\n",
       "      <td>1.0</td>\n",
       "      <td>1.0</td>\n",
       "      <td>4.8</td>\n",
       "      <td>5.0</td>\n",
       "      <td>5.0</td>\n",
       "      <td>5.0</td>\n",
       "      <td>5.0</td>\n",
       "      <td>4.8</td>\n",
       "      <td>24.0</td>\n",
       "      <td>1.0</td>\n",
       "    </tr>\n",
       "    <tr>\n",
       "      <th>45</th>\n",
       "      <td>6.0</td>\n",
       "      <td>3.0</td>\n",
       "      <td>1.0</td>\n",
       "      <td>4.9</td>\n",
       "      <td>5.0</td>\n",
       "      <td>5.0</td>\n",
       "      <td>5.0</td>\n",
       "      <td>5.0</td>\n",
       "      <td>4.8</td>\n",
       "      <td>28.0</td>\n",
       "      <td>2.0</td>\n",
       "    </tr>\n",
       "    <tr>\n",
       "      <th>550</th>\n",
       "      <td>2.0</td>\n",
       "      <td>1.0</td>\n",
       "      <td>1.0</td>\n",
       "      <td>4.6</td>\n",
       "      <td>4.6</td>\n",
       "      <td>4.6</td>\n",
       "      <td>5.0</td>\n",
       "      <td>4.6</td>\n",
       "      <td>4.6</td>\n",
       "      <td>38.0</td>\n",
       "      <td>1.0</td>\n",
       "    </tr>\n",
       "    <tr>\n",
       "      <th>11</th>\n",
       "      <td>5.0</td>\n",
       "      <td>4.0</td>\n",
       "      <td>1.0</td>\n",
       "      <td>4.3</td>\n",
       "      <td>4.5</td>\n",
       "      <td>4.4</td>\n",
       "      <td>4.8</td>\n",
       "      <td>4.5</td>\n",
       "      <td>4.1</td>\n",
       "      <td>10.0</td>\n",
       "      <td>1.0</td>\n",
       "    </tr>\n",
       "    <tr>\n",
       "      <th>446</th>\n",
       "      <td>4.0</td>\n",
       "      <td>3.0</td>\n",
       "      <td>1.0</td>\n",
       "      <td>4.9</td>\n",
       "      <td>4.9</td>\n",
       "      <td>5.0</td>\n",
       "      <td>4.9</td>\n",
       "      <td>5.0</td>\n",
       "      <td>4.9</td>\n",
       "      <td>56.0</td>\n",
       "      <td>2.0</td>\n",
       "    </tr>\n",
       "    <tr>\n",
       "      <th>...</th>\n",
       "      <td>...</td>\n",
       "      <td>...</td>\n",
       "      <td>...</td>\n",
       "      <td>...</td>\n",
       "      <td>...</td>\n",
       "      <td>...</td>\n",
       "      <td>...</td>\n",
       "      <td>...</td>\n",
       "      <td>...</td>\n",
       "      <td>...</td>\n",
       "      <td>...</td>\n",
       "    </tr>\n",
       "    <tr>\n",
       "      <th>870</th>\n",
       "      <td>6.0</td>\n",
       "      <td>5.0</td>\n",
       "      <td>1.5</td>\n",
       "      <td>5.0</td>\n",
       "      <td>5.0</td>\n",
       "      <td>5.0</td>\n",
       "      <td>5.0</td>\n",
       "      <td>5.0</td>\n",
       "      <td>5.0</td>\n",
       "      <td>61.0</td>\n",
       "      <td>3.0</td>\n",
       "    </tr>\n",
       "    <tr>\n",
       "      <th>737</th>\n",
       "      <td>6.0</td>\n",
       "      <td>3.0</td>\n",
       "      <td>2.0</td>\n",
       "      <td>5.0</td>\n",
       "      <td>5.0</td>\n",
       "      <td>5.0</td>\n",
       "      <td>4.3</td>\n",
       "      <td>4.3</td>\n",
       "      <td>5.0</td>\n",
       "      <td>14.0</td>\n",
       "      <td>2.0</td>\n",
       "    </tr>\n",
       "    <tr>\n",
       "      <th>788</th>\n",
       "      <td>4.0</td>\n",
       "      <td>2.0</td>\n",
       "      <td>1.0</td>\n",
       "      <td>5.0</td>\n",
       "      <td>5.0</td>\n",
       "      <td>5.0</td>\n",
       "      <td>5.0</td>\n",
       "      <td>5.0</td>\n",
       "      <td>4.9</td>\n",
       "      <td>36.0</td>\n",
       "      <td>2.0</td>\n",
       "    </tr>\n",
       "    <tr>\n",
       "      <th>418</th>\n",
       "      <td>2.0</td>\n",
       "      <td>1.0</td>\n",
       "      <td>1.5</td>\n",
       "      <td>5.0</td>\n",
       "      <td>5.0</td>\n",
       "      <td>5.0</td>\n",
       "      <td>4.9</td>\n",
       "      <td>5.0</td>\n",
       "      <td>4.9</td>\n",
       "      <td>25.0</td>\n",
       "      <td>1.0</td>\n",
       "    </tr>\n",
       "    <tr>\n",
       "      <th>239</th>\n",
       "      <td>2.0</td>\n",
       "      <td>1.0</td>\n",
       "      <td>1.0</td>\n",
       "      <td>4.8</td>\n",
       "      <td>4.5</td>\n",
       "      <td>4.9</td>\n",
       "      <td>4.5</td>\n",
       "      <td>4.6</td>\n",
       "      <td>4.8</td>\n",
       "      <td>23.0</td>\n",
       "      <td>1.0</td>\n",
       "    </tr>\n",
       "  </tbody>\n",
       "</table>\n",
       "<p>208 rows × 11 columns</p>\n",
       "</div>"
      ],
      "text/plain": [
       "     guests  beds  bathrooms  Cleanliness_rate  Accuracy_rate  \\\n",
       "761     2.0   1.0        1.0               4.8            5.0   \n",
       "45      6.0   3.0        1.0               4.9            5.0   \n",
       "550     2.0   1.0        1.0               4.6            4.6   \n",
       "11      5.0   4.0        1.0               4.3            4.5   \n",
       "446     4.0   3.0        1.0               4.9            4.9   \n",
       "..      ...   ...        ...               ...            ...   \n",
       "870     6.0   5.0        1.5               5.0            5.0   \n",
       "737     6.0   3.0        2.0               5.0            5.0   \n",
       "788     4.0   2.0        1.0               5.0            5.0   \n",
       "418     2.0   1.0        1.5               5.0            5.0   \n",
       "239     2.0   1.0        1.0               4.8            4.5   \n",
       "\n",
       "     Communication_rate  Location_rate  Check-in_rate  Value_rate  \\\n",
       "761                 5.0            5.0            5.0         4.8   \n",
       "45                  5.0            5.0            5.0         4.8   \n",
       "550                 4.6            5.0            4.6         4.6   \n",
       "11                  4.4            4.8            4.5         4.1   \n",
       "446                 5.0            4.9            5.0         4.9   \n",
       "..                  ...            ...            ...         ...   \n",
       "870                 5.0            5.0            5.0         5.0   \n",
       "737                 5.0            4.3            4.3         5.0   \n",
       "788                 5.0            5.0            5.0         4.9   \n",
       "418                 5.0            4.9            5.0         4.9   \n",
       "239                 4.9            4.5            4.6         4.8   \n",
       "\n",
       "     amenities_count  bedrooms  \n",
       "761             24.0       1.0  \n",
       "45              28.0       2.0  \n",
       "550             38.0       1.0  \n",
       "11              10.0       1.0  \n",
       "446             56.0       2.0  \n",
       "..               ...       ...  \n",
       "870             61.0       3.0  \n",
       "737             14.0       2.0  \n",
       "788             36.0       2.0  \n",
       "418             25.0       1.0  \n",
       "239             23.0       1.0  \n",
       "\n",
       "[208 rows x 11 columns]"
      ]
     },
     "execution_count": 5,
     "metadata": {},
     "output_type": "execute_result"
    }
   ],
   "source": [
    "X_test"
   ]
  },
  {
   "cell_type": "code",
   "execution_count": 6,
   "metadata": {},
   "outputs": [
    {
     "data": {
      "image/png": "[encoded data removed]",
      "text/plain": [
       "<Figure size 432x288 with 1 Axes>"
      ]
     },
     "metadata": {
      "needs_background": "light"
     },
     "output_type": "display_data"
    }
   ],
   "source": [
    "import numpy as np\n",
    "plt.scatter(X_test['guests'], y_test, color='blue')\n",
    "plt.scatter(X_test['bedrooms'], y_pred, color='red')\n",
    "plt.show()"
   ]
  },
  {
   "cell_type": "code",
   "execution_count": 7,
   "metadata": {},
   "outputs": [
    {
     "data": {
      "text/plain": [
       "877163334.0900117"
      ]
     },
     "execution_count": 7,
     "metadata": {},
     "output_type": "execute_result"
    }
   ],
   "source": [
    "#measures the average of error squares i.e. the average squared difference between the estimated values and true value.\n",
    "from sklearn.metrics import mean_squared_error\n",
    "mean_squared_error(y_test, y_pred, squared=False)"
   ]
  },
  {
   "cell_type": "code",
   "execution_count": 8,
   "metadata": {},
   "outputs": [
    {
     "data": {
      "text/plain": [
       "775911694.5590167"
      ]
     },
     "execution_count": 8,
     "metadata": {},
     "output_type": "execute_result"
    }
   ],
   "source": [
    "mean_squared_error(y_train, y_train_pred, squared=False)"
   ]
  },
  {
   "cell_type": "code",
   "execution_count": 9,
   "metadata": {},
   "outputs": [
    {
     "data": {
      "text/plain": [
       "-25076544743108.805"
      ]
     },
     "execution_count": 9,
     "metadata": {},
     "output_type": "execute_result"
    }
   ],
   "source": [
    "#r2 score: regression score function. Best possible score is 1.0 and it can be negative (because the model can be arbitrarily worse).\n",
    "from sklearn.metrics import r2_score\n",
    "r2_score(y_test, y_pred)"
   ]
  },
  {
   "cell_type": "code",
   "execution_count": 10,
   "metadata": {},
   "outputs": [
    {
     "data": {
      "text/plain": [
       "-50816181459985.09"
      ]
     },
     "execution_count": 10,
     "metadata": {},
     "output_type": "execute_result"
    }
   ],
   "source": [
    "from sklearn.metrics import r2_score\n",
    "r2_score(y_train, y_train_pred)"
   ]
  },
  {
   "cell_type": "code",
   "execution_count": 11,
   "metadata": {},
   "outputs": [
    {
     "name": "stdout",
     "output_type": "stream",
     "text": [
      "{'loss': 'huber', 'learning_rate': 'optimal'}\n",
      "22941.936657715338\n"
     ]
    }
   ],
   "source": [
    "# GridSearchCV: process of performing hyperparameter tuning in order to determine the optimal values for a given model.\n",
    "def custom_tune_regression_model_hyperparameters(model, set, hyperparameters):\n",
    "    best_mse = float('inf')\n",
    "    best_reg = None\n",
    "    for loss in hyperparameters['loss']:\n",
    "        # print('training for alpha = {}'.format(alpha))\n",
    "        for learning_rate in hyperparameters['learning_rate']:\n",
    "            # print('training for eta0 = {}'.format(eta0))\n",
    "            m = model(loss=loss, learning_rate=learning_rate)\n",
    "            m.fit(X_train, y_train)\n",
    "            y_pred = m.predict(X_test)\n",
    "            mse = mean_squared_error(y_test, y_pred)\n",
    "            if mse < best_mse:\n",
    "                best_mse = mse\n",
    "                best_params = {'loss': loss, 'learning_rate': learning_rate}\n",
    "                best_reg = m\n",
    "    return best_reg, best_params, best_mse\n",
    "\n",
    "set = [X_train, X_test, y_train, y_test]\n",
    "model = SGDRegressor\n",
    "# hyperparameters = {'alpha': [0.001, 0.01, 0.1, 1, 10, 100, 1000],\n",
    "#                    'eta0': [0.001, 0.01, 0.1, 1, 10, 100, 1000]}\n",
    "\n",
    "hyperparameters={\"loss\":['squared_error', 'huber', 'epsilon_insensitive','squared_epsilon_insensitive'],\n",
    "                 \"learning_rate\":['constant', 'optimal', 'invscaling', 'adaptive']}\n",
    "best_reg, best_params, best_mse = custom_tune_regression_model_hyperparameters(model, set,hyperparameters)\n",
    "print(best_params)\n",
    "print(best_mse)\n"
   ]
  },
  {
   "cell_type": "code",
   "execution_count": 12,
   "metadata": {},
   "outputs": [],
   "source": [
    "import joblib\n",
    "import json\n",
    "def save_model_to_file(filename):\n",
    "    joblib.dump(model, filename)\n",
    "\n",
    "def save_hyperparameters_to_file(filename):\n",
    "    with open(filename, 'w') as f:\n",
    "        json.dump(hyperparameters, f)\n",
    "\n",
    "def save_metrics_to_file(filename):\n",
    "    with open(filename, 'w') as f:\n",
    "        json.dump(metrics, f)\n"
   ]
  },
  {
   "cell_type": "code",
   "execution_count": 13,
   "metadata": {},
   "outputs": [],
   "source": [
    "from sklearn.model_selection import GridSearchCV\n",
    "\n",
    "def tune_regression_model_hyperparameters(model, hyperparameters):\n",
    "    grid_search = GridSearchCV(model, hyperparameters, cv=5, scoring='neg_mean_squared_error')\n",
    "    grid_search.fit(X_train, y_train)\n",
    "    return grid_search.best_params_, grid_search.best_score_"
   ]
  },
  {
   "cell_type": "code",
   "execution_count": 14,
   "metadata": {},
   "outputs": [],
   "source": [
    "hyperparameters = {'alpha': [0.001, 0.01, 0.1, 1, 10, 100, 1000],\n",
    "                   'eta0': [0.001, 0.01, 0.1, 1, 10, 100, 1000]}\n",
    "model = SGDRegressor()\n",
    "metrics = tune_regression_model_hyperparameters(model, hyperparameters)\n",
    "\n",
    "save_model_to_file('/Users/dq/Documents/aicore_project/Airbnb_Project/models/regression/model.joblib')\n",
    "save_hyperparameters_to_file('/Users/dq/Documents/aicore_project/Airbnb_Project/models/regression/hyperparameters.json')\n",
    "save_metrics_to_file('/Users/dq/Documents/aicore_project/Airbnb_Project/models/regression/metrics.json')"
   ]
  },
  {
   "cell_type": "code",
   "execution_count": 15,
   "metadata": {},
   "outputs": [
    {
     "data": {
      "text/plain": [
       "({'alpha': 1, 'eta0': 0.001}, -9198.848572765435)"
      ]
     },
     "execution_count": 15,
     "metadata": {},
     "output_type": "execute_result"
    }
   ],
   "source": [
    "metrics"
   ]
  },
  {
   "cell_type": "code",
   "execution_count": 16,
   "metadata": {},
   "outputs": [],
   "source": [
    "from sklearn import tree\n",
    "\n",
    "hyperparameters = {'criterion': ['squared_error', 'friedman_mse', 'absolute_error', 'poisson'],\n",
    "                   'max_depth': [2,4,6,8,10,12]}\n",
    "model = tree.DecisionTreeRegressor()\n",
    "metrics = tune_regression_model_hyperparameters(model, hyperparameters)\n",
    "\n",
    "save_model_to_file('/Users/dq/Documents/aicore_project/Airbnb_Project/models/decisiontree/model.joblib')\n",
    "save_hyperparameters_to_file('/Users/dq/Documents/aicore_project/Airbnb_Project/models/decisiontree/hyperparamenters.json')\n",
    "save_metrics_to_file('/Users/dq/Documents/aicore_project/Airbnb_Project/models/decisiontree/metrics.json')"
   ]
  },
  {
   "cell_type": "code",
   "execution_count": 17,
   "metadata": {},
   "outputs": [
    {
     "data": {
      "text/plain": [
       "({'criterion': 'squared_error', 'max_depth': 2}, -9783.082294632852)"
      ]
     },
     "execution_count": 17,
     "metadata": {},
     "output_type": "execute_result"
    }
   ],
   "source": [
    "metrics"
   ]
  },
  {
   "cell_type": "code",
   "execution_count": 18,
   "metadata": {},
   "outputs": [],
   "source": [
    "from sklearn.ensemble import RandomForestRegressor\n",
    "\n",
    "hyperparameters = {'max_depth': [60, 70, 80, 90, 100, None],\n",
    "                   'n_estimators': [200, 400, 600, 800, 1000]}\n",
    "model = RandomForestRegressor()\n",
    "metrics = tune_regression_model_hyperparameters(model, hyperparameters)\n",
    "\n",
    "save_model_to_file('/Users/dq/Documents/aicore_project/Airbnb_Project/models/randomforest/model.joblib')\n",
    "save_hyperparameters_to_file('/Users/dq/Documents/aicore_project/Airbnb_Project/models/randomforest/hyperparameters.json')\n",
    "save_metrics_to_file('/Users/dq/Documents/aicore_project/Airbnb_Project/models/randomforest/metrics.json')"
   ]
  },
  {
   "cell_type": "code",
   "execution_count": 19,
   "metadata": {},
   "outputs": [
    {
     "data": {
      "text/plain": [
       "({'max_depth': 100, 'n_estimators': 400}, -8846.470856985397)"
      ]
     },
     "execution_count": 19,
     "metadata": {},
     "output_type": "execute_result"
    }
   ],
   "source": [
    "metrics"
   ]
  },
  {
   "cell_type": "code",
   "execution_count": 20,
   "metadata": {},
   "outputs": [],
   "source": [
    "from sklearn.ensemble import GradientBoostingRegressor\n",
    "\n",
    "hyperparameters = {\"n_estimators\": [200, 400, 600, 800, 1000],\n",
    "                    \"loss\":['squared_error', 'huber', 'quantile','absolute_error']}\n",
    "model = GradientBoostingRegressor()\n",
    "metrics = tune_regression_model_hyperparameters(model, hyperparameters)\n",
    "\n",
    "save_model_to_file('/Users/dq/Documents/aicore_project/Airbnb_Project/models/gradientboostingregressor/model.joblib')\n",
    "save_hyperparameters_to_file('/Users/dq/Documents/aicore_project/Airbnb_Project/models/gradientboostingregressor/hyperparamenters.json')\n",
    "save_metrics_to_file('/Users/dq/Documents/aicore_project/Airbnb_Project/models/gradientboostingregressor/metrics.json')"
   ]
  },
  {
   "cell_type": "code",
   "execution_count": 21,
   "metadata": {},
   "outputs": [
    {
     "data": {
      "text/plain": [
       "({'loss': 'huber', 'n_estimators': 200}, -8994.84460737376)"
      ]
     },
     "execution_count": 21,
     "metadata": {},
     "output_type": "execute_result"
    }
   ],
   "source": [
    "metrics"
   ]
  },
  {
   "cell_type": "code",
   "execution_count": 22,
   "metadata": {},
   "outputs": [],
   "source": [
    "def evaluate_all_models():\n",
    "    path = '/Users/dq/Documents/aicore_project/Airbnb_Project/models/'\n",
    "    hyperparameters = {'alpha': [0.001, 0.01, 0.1, 1, 10, 100, 1000],\n",
    "                   'eta0': [0.001, 0.01, 0.1, 1, 10, 100, 1000]}\n",
    "    SGDRregressor = SGDRegressor()\n",
    "    sgdr_metrics = tune_regression_model_hyperparameters(SGDRregressor, hyperparameters)\n",
    "\n",
    "    save_model_to_file(path + 'regression/model.joblib')\n",
    "    save_hyperparameters_to_file(path +'regression/hyperparameters.json')\n",
    "    save_metrics_to_file(path + 'regression/metrics.json')\n",
    "\n",
    "    hyperparameters = {'criterion': ['squared_error', 'friedman_mse', 'absolute_error', 'poisson'],\n",
    "                   'max_depth': [2,4,6,8,10,12]}\n",
    "    decision_tree = tree.DecisionTreeRegressor()\n",
    "    decisiontree_metrics = tune_regression_model_hyperparameters(decision_tree, hyperparameters)\n",
    "\n",
    "    save_model_to_file(path + 'decisiontree/model.joblib')\n",
    "    save_hyperparameters_to_file(path + 'decisiontree/hyperparamenters.json')\n",
    "    save_metrics_to_file(path + 'decisiontree/metrics.json')\n",
    "\n",
    "    hyperparameters = {'max_depth': [60, 70, 80, 90, 100, None],\n",
    "                   'n_estimators': [200, 400, 600, 800, 1000]}\n",
    "    random_forest = RandomForestRegressor()\n",
    "    random_forest_metrics = tune_regression_model_hyperparameters(random_forest, hyperparameters)\n",
    "\n",
    "    save_model_to_file(path + 'randomforest/model.joblib')\n",
    "    save_hyperparameters_to_file(path + 'randomforest/hyperparameters.json')\n",
    "    save_metrics_to_file(path + 'randomforest/metrics.json')\n",
    "\n",
    "    hyperparameters = {\"n_estimators\": [200, 400, 600, 800, 1000],\n",
    "                    \"loss\":['squared_error', 'huber', 'quantile','absolute_error']}\n",
    "    gradient_booster = GradientBoostingRegressor()\n",
    "    gradient_booster_metrics = tune_regression_model_hyperparameters(gradient_booster, hyperparameters)\n",
    "\n",
    "    save_model_to_file(path + 'gradientboostingregressor/model.joblib')\n",
    "    save_hyperparameters_to_file(path + 'gradientboostingregressor/hyperparamenters.json')\n",
    "    save_metrics_to_file(path + 'gradientboostingregressor/metrics.json')\n",
    "\n",
    "evaluate_all_models()"
   ]
  },
  {
   "cell_type": "code",
   "execution_count": 23,
   "metadata": {},
   "outputs": [
    {
     "name": "stdout",
     "output_type": "stream",
     "text": [
      "SGDRegressor() ({'alpha': 0.001, 'eta0': 0.001}, -9149.22024024143)\n",
      "DecisionTreeRegressor() ({'criterion': 'squared_error', 'max_depth': 2}, -9783.082294632852)\n",
      "RandomForestRegressor() ({'max_depth': 60, 'n_estimators': 1000}, -8878.579065954904)\n",
      "GradientBoostingRegressor() ({'loss': 'absolute_error', 'n_estimators': 400}, -9000.320703240492)\n"
     ]
    }
   ],
   "source": [
    "def find_best_model():\n",
    "\thyperparameters = [\n",
    "\t{\n",
    "\t\t'alpha': [0.001, 0.01, 0.1, 1, 10, 100, 1000],\n",
    "\t\t'eta0': [0.001, 0.01, 0.1, 1, 10, 100, 1000]\n",
    "\t},\n",
    "\t{\n",
    "\t\t'criterion': ['squared_error', 'friedman_mse', 'absolute_error', 'poisson'],\n",
    "\t\t'max_depth': [2,4,6,8,10,12]\n",
    "\t},\n",
    "\t{\n",
    "\t\t'max_depth': [60, 70, 80, 90, 100],\n",
    "\t\t'n_estimators': [200, 400, 600, 800, 1000]\n",
    "\t},\n",
    "\t{\n",
    "\t\t\"n_estimators\": [200, 400, 600, 800, 1000],\n",
    "\t\t\"loss\":['squared_error', 'huber', 'quantile','absolute_error']\n",
    "\t}]\n",
    "\tnew_list = []\n",
    "\tmodels = [\n",
    "        SGDRegressor(),\n",
    "        tree.DecisionTreeRegressor(),\n",
    "\t\tRandomForestRegressor(),\n",
    "\t\tGradientBoostingRegressor()]\n",
    "\t\n",
    "\tlist_zip = list(zip(models, hyperparameters))\n",
    "\t\n",
    "\tfor i in range(len(list_zip)):\n",
    "\t\tmodel, hp = list_zip[i]\n",
    "\t\tmetrics = tune_regression_model_hyperparameters(model, hp)\n",
    "\t\tprint(model, metrics)\n",
    "find_best_model()"
   ]
  },
  {
   "cell_type": "code",
   "execution_count": 24,
   "metadata": {},
   "outputs": [],
   "source": [
    "hyperparameters = [\n",
    "{\n",
    "    'alpha': [0.001, 0.01, 0.1, 1, 10, 100, 1000],\n",
    "    'eta0': [0.001, 0.01, 0.1, 1, 10, 100, 1000]\n",
    "},\n",
    "{\n",
    "    'criterion': ['squared_error', 'friedman_mse', 'absolute_error', 'poisson'],\n",
    "    'max_depth': [2,4,6,8,10,12]\n",
    "},\n",
    "{\n",
    "    'max_depth': [60, 70, 80, 90, 100, None],\n",
    "    'n_estimators': [200, 400, 600, 800, 1000]\n",
    "},\n",
    "{\n",
    "    \"n_estimators\": [200, 400, 600, 800, 1000],\n",
    "    \"loss\":['squared_error', 'huber', 'quantile','absolute_error']\n",
    "}]\n",
    "models = [\n",
    "    SGDRegressor(),\n",
    "    tree.DecisionTreeRegressor(),\n",
    "    RandomForestRegressor(),\n",
    "    GradientBoostingRegressor()]\n",
    "\n",
    "list_zip = list(zip(models, hyperparameters))"
   ]
  },
  {
   "cell_type": "code",
   "execution_count": null,
   "metadata": {},
   "outputs": [],
   "source": []
  },
  {
   "cell_type": "code",
   "execution_count": 25,
   "metadata": {},
   "outputs": [
    {
     "name": "stdout",
     "output_type": "stream",
     "text": [
      "SGDRegressor()\n",
      "DecisionTreeRegressor()\n",
      "RandomForestRegressor()\n",
      "GradientBoostingRegressor()\n"
     ]
    }
   ],
   "source": [
    "for i in range(len(list_zip)):\n",
    "    model, hp = list_zip[i]\n",
    "    print(model)\n",
    "    "
   ]
  },
  {
   "cell_type": "code",
   "execution_count": 26,
   "metadata": {},
   "outputs": [
    {
     "data": {
      "text/plain": [
       "GradientBoostingRegressor()"
      ]
     },
     "execution_count": 26,
     "metadata": {},
     "output_type": "execute_result"
    }
   ],
   "source": [
    "model"
   ]
  },
  {
   "cell_type": "code",
   "execution_count": 27,
   "metadata": {},
   "outputs": [
    {
     "data": {
      "text/plain": [
       "tuple"
      ]
     },
     "execution_count": 27,
     "metadata": {},
     "output_type": "execute_result"
    }
   ],
   "source": [
    "type(list_zip[0])"
   ]
  },
  {
   "cell_type": "code",
   "execution_count": 28,
   "metadata": {},
   "outputs": [
    {
     "name": "stdout",
     "output_type": "stream",
     "text": [
      "SGDRegressor() {'alpha': [0.001, 0.01, 0.1, 1, 10, 100, 1000], 'eta0': [0.001, 0.01, 0.1, 1, 10, 100, 1000]}\n"
     ]
    }
   ],
   "source": [
    "a, b = list_zip[0]\n",
    "print(a, b)"
   ]
  }
 ],
 "metadata": {
  "interpreter": {
   "hash": "e47b1a34c05c1e3b83a62d7885c9d1b5ef8a0522d3be0182d0a008ec409b2b3d"
  },
  "kernelspec": {
   "display_name": "Python 3.9.12 ('myenv')",
   "language": "python",
   "name": "python3"
  },
  "language_info": {
   "codemirror_mode": {
    "name": "ipython",
    "version": 3
   },
   "file_extension": ".py",
   "mimetype": "text/x-python",
   "name": "python",
   "nbconvert_exporter": "python",
   "pygments_lexer": "ipython3",
   "version": "3.9.12"
  },
  "orig_nbformat": 4
 },
 "nbformat": 4,
 "nbformat_minor": 2
}
